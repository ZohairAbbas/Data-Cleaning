{
 "cells": [
  {
   "cell_type": "markdown",
   "id": "eb3b16e4",
   "metadata": {},
   "source": [
    "## Data Preprocessing / Cleaning"
   ]
  },
  {
   "cell_type": "markdown",
   "id": "6de51d87",
   "metadata": {},
   "source": [
    "Data Preprocessing is a technique that is used to convert the raw data into a clean data set. A dataset can be referred to as a dirty set if it has any of the following characteristics:\n",
    "-    Missing Values\n",
    "-    Duplicate Values\n",
    "-    Wrong Values\n",
    "-    Type Mismatch\n",
    "-    Unnecessary Rows or Columns"
   ]
  },
  {
   "cell_type": "markdown",
   "id": "25c682fa",
   "metadata": {},
   "source": [
    "Let's start with the missing values. To check all the missing values in the dataset, we could use:"
   ]
  },
  {
   "cell_type": "code",
   "execution_count": null,
   "id": "06aa410b",
   "metadata": {},
   "outputs": [],
   "source": [
    "df.isnull()"
   ]
  },
  {
   "cell_type": "markdown",
   "id": "f96cb23e",
   "metadata": {},
   "source": [
    "Since it returns the values in Boolean (T/F) format, we could use .sum() to get the sum of missing values in each column"
   ]
  },
  {
   "cell_type": "code",
   "execution_count": null,
   "id": "0f24190c",
   "metadata": {},
   "outputs": [],
   "source": [
    "df.isnull().sum()"
   ]
  },
  {
   "cell_type": "markdown",
   "id": "b555999d",
   "metadata": {},
   "source": [
    "### How to tackle Missing Values?"
   ]
  },
  {
   "cell_type": "markdown",
   "id": "471cb111",
   "metadata": {},
   "source": [
    "We can simply delete rows with missing values, but usually we would want to take advantage of as many data points as possible. Replacing missing values with zeros would not be a good idea - as age 0 or price 0 have actual meanings and that would change our data.\n",
    "\n",
    "Therefore a good replacement value would be something that doesn't affect the data too much, such as the median or mean. The \"fillna\" function replaces every NaN (not a number) entry with the given input:"
   ]
  },
  {
   "cell_type": "markdown",
   "id": "29fefde8",
   "metadata": {},
   "source": [
    "#### Filling with Mean, Median and Mode"
   ]
  },
  {
   "cell_type": "code",
   "execution_count": null,
   "id": "c6d5bfc5",
   "metadata": {},
   "outputs": [],
   "source": [
    "df[col] = df[col].fillna(df[col].mean())"
   ]
  },
  {
   "cell_type": "code",
   "execution_count": null,
   "id": "33c98f26",
   "metadata": {},
   "outputs": [],
   "source": [
    "df[col] = df[col].fillna(df[col].median())"
   ]
  },
  {
   "cell_type": "code",
   "execution_count": null,
   "id": "a8ffa6e7",
   "metadata": {},
   "outputs": [],
   "source": [
    "df[col] = df[col].fillna(df[col].mode()[0])"
   ]
  },
  {
   "cell_type": "markdown",
   "id": "3f5a8f82",
   "metadata": {},
   "source": [
    "#### Filling with Interpolation"
   ]
  },
  {
   "cell_type": "code",
   "execution_count": null,
   "id": "517ed2be",
   "metadata": {},
   "outputs": [],
   "source": [
    "df[col] = df[col].interpolate(method ='linear', limit_direction ='forward')"
   ]
  },
  {
   "cell_type": "markdown",
   "id": "dd1b36b0",
   "metadata": {},
   "source": [
    "#### Filling with backward or forward fill"
   ]
  },
  {
   "cell_type": "code",
   "execution_count": null,
   "id": "11d8d801",
   "metadata": {},
   "outputs": [],
   "source": [
    "df[col] = df[col].fillna(method='ffill')"
   ]
  },
  {
   "cell_type": "code",
   "execution_count": null,
   "id": "8a307fd5",
   "metadata": {},
   "outputs": [],
   "source": [
    "df[col] = df[col].fillna(method='bfill')"
   ]
  },
  {
   "cell_type": "markdown",
   "id": "2e94e312",
   "metadata": {},
   "source": [
    "We can also remove the missing values from our dataset using:"
   ]
  },
  {
   "cell_type": "markdown",
   "id": "4aa6f52d",
   "metadata": {},
   "source": [
    "#### Removing Row (if all values are missing)"
   ]
  },
  {
   "cell_type": "code",
   "execution_count": null,
   "id": "2b19f2fa",
   "metadata": {},
   "outputs": [],
   "source": [
    "df = df.dropna(how='all')"
   ]
  },
  {
   "cell_type": "markdown",
   "id": "6c4e7db6",
   "metadata": {},
   "source": [
    "#### Removing Missing Values (column wise)"
   ]
  },
  {
   "cell_type": "code",
   "execution_count": null,
   "id": "059e7b8a",
   "metadata": {},
   "outputs": [],
   "source": [
    "df = df.dropna(axis=1)"
   ]
  },
  {
   "cell_type": "markdown",
   "id": "9d3dc857",
   "metadata": {},
   "source": [
    "#### Removing Missing Values (row wise)"
   ]
  },
  {
   "cell_type": "code",
   "execution_count": null,
   "id": "d30e17e7",
   "metadata": {},
   "outputs": [],
   "source": [
    "df = df.dropna(axis=0)"
   ]
  },
  {
   "cell_type": "markdown",
   "id": "33eae619",
   "metadata": {},
   "source": [
    "### Taking care of Duplicate Values"
   ]
  },
  {
   "cell_type": "markdown",
   "id": "579cbaf8",
   "metadata": {},
   "source": [
    "We can simply drop duplicates from our dataset using drop_duplicates function"
   ]
  },
  {
   "cell_type": "code",
   "execution_count": null,
   "id": "7a539adf",
   "metadata": {},
   "outputs": [],
   "source": [
    "df.drop_duplicates(keep=first,inplace=True)"
   ]
  },
  {
   "cell_type": "markdown",
   "id": "eb3ce958",
   "metadata": {},
   "source": [
    "### Type Mismatch"
   ]
  },
  {
   "cell_type": "markdown",
   "id": "e2b7831a",
   "metadata": {},
   "source": [
    "We can change the datatypes of any column using:"
   ]
  },
  {
   "cell_type": "code",
   "execution_count": null,
   "id": "13fbe60b",
   "metadata": {},
   "outputs": [],
   "source": [
    "df[col] = df[col].astype('int64')"
   ]
  },
  {
   "cell_type": "code",
   "execution_count": null,
   "id": "754b62ea",
   "metadata": {},
   "outputs": [],
   "source": [
    "df[col] = df[col].astype('object')"
   ]
  },
  {
   "cell_type": "code",
   "execution_count": null,
   "id": "87ef9331",
   "metadata": {},
   "outputs": [],
   "source": [
    "df[col] = df[col].astype('float64')"
   ]
  },
  {
   "cell_type": "markdown",
   "id": "7890cd43",
   "metadata": {},
   "source": [
    "### Handling Wrong Values"
   ]
  },
  {
   "cell_type": "markdown",
   "id": "946cf989",
   "metadata": {},
   "source": [
    "We can change any wrongly entered value from column using:"
   ]
  },
  {
   "cell_type": "code",
   "execution_count": null,
   "id": "0a35d59e",
   "metadata": {},
   "outputs": [],
   "source": [
    "df[col].replace(to_replace=st1, value=st2)"
   ]
  },
  {
   "cell_type": "markdown",
   "id": "56d95be2",
   "metadata": {},
   "source": [
    "or we can use the following code snippet:"
   ]
  },
  {
   "cell_type": "code",
   "execution_count": null,
   "id": "2e9f7e97",
   "metadata": {},
   "outputs": [],
   "source": [
    "# These are the indexes where karchi is written instead of karachi\n",
    "\n",
    "khi_wrong_values = df[df['Cities']=='karchi'].index.tolist()\n",
    "print(khi_wrong_values )\n",
    "# [119, 147, 156, 388, 453, 471, 487]\n",
    "\n",
    "\n",
    "# replacing the karchi with Karachi\n",
    "\n",
    "for index in ans_call_null:\n",
    "    df.loc[index,'Cities'] = \"Karachi\""
   ]
  }
 ],
 "metadata": {
  "kernelspec": {
   "display_name": "Python 3 (ipykernel)",
   "language": "python",
   "name": "python3"
  },
  "language_info": {
   "codemirror_mode": {
    "name": "ipython",
    "version": 3
   },
   "file_extension": ".py",
   "mimetype": "text/x-python",
   "name": "python",
   "nbconvert_exporter": "python",
   "pygments_lexer": "ipython3",
   "version": "3.8.11"
  }
 },
 "nbformat": 4,
 "nbformat_minor": 5
}
